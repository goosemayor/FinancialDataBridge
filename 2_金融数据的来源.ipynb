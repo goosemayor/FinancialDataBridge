{
 "cells": [
  {
   "cell_type": "markdown",
   "id": "d130baac-e5d8-4853-931c-563f3051070b",
   "metadata": {},
   "source": [
    "# 2.金融数据的来源"
   ]
  },
  {
   "cell_type": "markdown",
   "id": "2f661a57-9f2d-4b64-bfbb-df20b95bec5e",
   "metadata": {},
   "source": [
    "金融相关的数据，通常包括客户信息、投融资信息、金融舆情信息、市场数据、公开的财务报表、股票、基金、利率等信息。这些数据的提供者来自于政府、信息服务商或者个人。"
   ]
  },
  {
   "cell_type": "markdown",
   "id": "388d64f9-01e8-4e71-aa28-7453d6e38e2b",
   "metadata": {},
   "source": [
    "专业性数据库网站如国家统计局网站、中国人民银行网站、[中国证监会网站](http://www.csrc.gov.cn)、世界银行网站和国际货币基金组织网站等。\n",
    "\n",
    "专业数据公司主要有路透终端、彭博数据库、CSMAR、Wind数据库等。\n",
    "\n",
    "除此之外，一些数据科学社区，如Kaggle，也提供了很多金融和经济的开源数据集。"
   ]
  },
  {
   "cell_type": "markdown",
   "id": "e3a80f02-c5b1-42da-bea0-2e232b5129d4",
   "metadata": {},
   "source": [
    "以下有部分数据源的链接：\n",
    "|数据源|链接|数据种类|\n",
    "|---|---|---|\n",
    "|Kaggle|https://www.kaggle.com|综合数据|\n",
    "|datarade|https://datarade.ai/|综合数据|\n",
    "|CSMAR|http://cndata1.csmar.com/|财经数据|\n",
    "|巨潮资讯数据|http://webapi.cninfo.com.cn/#/|财务数据等|\n",
    "|tushare|http://tushare.org/index.html|股票价格数据|"
   ]
  },
  {
   "cell_type": "markdown",
   "id": "8a8231db-d33b-4012-9c19-2a87e726f834",
   "metadata": {},
   "source": [
    "## 2.1 市场价格数据"
   ]
  },
  {
   "cell_type": "code",
   "execution_count": null,
   "id": "f9aa04bb-363c-4503-b8ce-24345f91e49d",
   "metadata": {},
   "outputs": [],
   "source": []
  },
  {
   "cell_type": "markdown",
   "id": "2b81ea59-769f-4934-91d7-d1425ac531c2",
   "metadata": {},
   "source": [
    "## 2.2新闻数据"
   ]
  },
  {
   "cell_type": "code",
   "execution_count": null,
   "id": "deaaeca0-0a2a-4413-a614-db51bf201edd",
   "metadata": {},
   "outputs": [],
   "source": []
  },
  {
   "cell_type": "markdown",
   "id": "62c4bd72-7581-4185-809b-92004eede23b",
   "metadata": {},
   "source": [
    "## 2.3 。。。"
   ]
  },
  {
   "cell_type": "code",
   "execution_count": null,
   "id": "30fd705c-2075-4998-aa3d-591a7821086b",
   "metadata": {},
   "outputs": [],
   "source": []
  }
 ],
 "metadata": {
  "kernelspec": {
   "display_name": "Python 3 (ipykernel)",
   "language": "python",
   "name": "python3"
  },
  "language_info": {
   "codemirror_mode": {
    "name": "ipython",
    "version": 3
   },
   "file_extension": ".py",
   "mimetype": "text/x-python",
   "name": "python",
   "nbconvert_exporter": "python",
   "pygments_lexer": "ipython3",
   "version": "3.9.13"
  }
 },
 "nbformat": 4,
 "nbformat_minor": 5
}
