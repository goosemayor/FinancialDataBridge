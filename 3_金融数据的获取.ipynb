{
 "cells": [
  {
   "cell_type": "markdown",
   "id": "c14e3c92-657c-404d-b17b-ef5370c69ffd",
   "metadata": {},
   "source": [
    "# 3. 金融数据的获取"
   ]
  },
  {
   "cell_type": "markdown",
   "id": "d8789877-d4e9-4cb4-bd98-1ec519477732",
   "metadata": {},
   "source": [
    "### 3.1 使用pandas_datareader访问雅虎数据库"
   ]
  },
  {
   "cell_type": "markdown",
   "id": "269fcfb7-60ae-43cf-a7e8-f0f97555f48c",
   "metadata": {},
   "source": [
    "Python下[pandas_datareader](https://pydata.github.io/pandas-datareader/remote_data.html#tiingo)包可以从不同的数据源获取各种金融数据。包括Yahoo Finance 雅虎金融；Eurostat 欧盟统计局；NASDAQ；OECD 经合组织；Quandl；World Bank。\n",
    "\n",
    "首先我们安装python的pandas_datareader库，点击左上角+号，然后点击**终端(Terminal**)按钮，接着输入以下命令进行安装：\n",
    "```shell\n",
    "pip install pandas_datareader\n",
    "```\n",
    "\n"
   ]
  },
  {
   "cell_type": "markdown",
   "id": "a02470ee-e146-4e12-82de-d17d1091063d",
   "metadata": {},
   "source": [
    "安装成功后，我们使用pandas_datareader读取Yahoo财经网站的数据，获取Facebook股票2017/1/1到2019/9/26期间的数据："
   ]
  },
  {
   "cell_type": "markdown",
   "id": "e4b25821-f347-44d4-bb5c-bcb4984429f1",
   "metadata": {},
   "source": [
    "```python\n",
    "import pandas_datareader.data as webdata\n",
    "import datetime\n",
    "import os\n",
    "start = datetime.datetime(2017, 1, 1)\n",
    "end = datetime.datetime(2019, 9, 26)\n",
    "df = webdata.get_data_yahoo(\"AAPL\", start, end)\n",
    "```"
   ]
  },
  {
   "cell_type": "markdown",
   "id": "178724c2-648b-457c-a641-eb0d05c01c19",
   "metadata": {
    "tags": []
   },
   "source": [
    "因为雅虎政策修改的问题，以上代码运行，需要开启科学上网工具，非中国大陆地区IP地址可以正常使用。"
   ]
  },
  {
   "cell_type": "markdown",
   "id": "309a3ff1-7574-4ce5-ada8-d576efd4b918",
   "metadata": {},
   "source": [
    "### 3.2 国内股票数据接口tushare"
   ]
  },
  {
   "cell_type": "markdown",
   "id": "24d354a6-7a3b-4c5d-a7d6-0abb6a114e03",
   "metadata": {},
   "source": [
    "[Tushare](http://tushare.org)是一个免费、开源的python财经数据接口包。\n",
    "首先我们安装tushare库，点击左上角+号，然后点击**终端(Terminal**)按钮，接着输入以下命令进行安装：\n",
    "```shell\n",
    "pip install tushare\n",
    "```\n"
   ]
  },
  {
   "cell_type": "markdown",
   "id": "8b46c7b5-6b67-4f30-8096-47cec3fa3ea5",
   "metadata": {},
   "source": [
    "安装成功后，我们使用tushare读取上证指数（代码为\"sz\"）日行情数据："
   ]
  },
  {
   "cell_type": "code",
   "execution_count": 19,
   "id": "e58f58d5-75af-4ef1-be90-f83be8b7faa9",
   "metadata": {},
   "outputs": [
    {
     "name": "stdout",
     "output_type": "stream",
     "text": [
      "本接口即将停止更新，请尽快使用Pro版接口：https://tushare.pro/document/2\n"
     ]
    },
    {
     "name": "stderr",
     "output_type": "stream",
     "text": [
      "/Users/hans/opt/anaconda3/lib/python3.9/site-packages/tushare/stock/trading.py:706: FutureWarning: The frame.append method is deprecated and will be removed from pandas in a future version. Use pandas.concat instead.\n",
      "  data = data.append(_get_k_data(url, dataflag,\n"
     ]
    },
    {
     "data": {
      "text/html": [
       "<div>\n",
       "<style scoped>\n",
       "    .dataframe tbody tr th:only-of-type {\n",
       "        vertical-align: middle;\n",
       "    }\n",
       "\n",
       "    .dataframe tbody tr th {\n",
       "        vertical-align: top;\n",
       "    }\n",
       "\n",
       "    .dataframe thead th {\n",
       "        text-align: right;\n",
       "    }\n",
       "</style>\n",
       "<table border=\"1\" class=\"dataframe\">\n",
       "  <thead>\n",
       "    <tr style=\"text-align: right;\">\n",
       "      <th></th>\n",
       "      <th>date</th>\n",
       "      <th>open</th>\n",
       "      <th>close</th>\n",
       "      <th>high</th>\n",
       "      <th>low</th>\n",
       "      <th>volume</th>\n",
       "      <th>code</th>\n",
       "    </tr>\n",
       "  </thead>\n",
       "  <tbody>\n",
       "    <tr>\n",
       "      <th>0</th>\n",
       "      <td>2020-01-02</td>\n",
       "      <td>10509.12</td>\n",
       "      <td>10638.82</td>\n",
       "      <td>10663.55</td>\n",
       "      <td>10479.77</td>\n",
       "      <td>392795173.0</td>\n",
       "      <td>sz</td>\n",
       "    </tr>\n",
       "    <tr>\n",
       "      <th>1</th>\n",
       "      <td>2020-01-03</td>\n",
       "      <td>10666.66</td>\n",
       "      <td>10656.41</td>\n",
       "      <td>10689.59</td>\n",
       "      <td>10594.36</td>\n",
       "      <td>373603938.0</td>\n",
       "      <td>sz</td>\n",
       "    </tr>\n",
       "    <tr>\n",
       "      <th>2</th>\n",
       "      <td>2020-01-06</td>\n",
       "      <td>10599.41</td>\n",
       "      <td>10698.27</td>\n",
       "      <td>10799.58</td>\n",
       "      <td>10577.78</td>\n",
       "      <td>438998251.0</td>\n",
       "      <td>sz</td>\n",
       "    </tr>\n",
       "    <tr>\n",
       "      <th>3</th>\n",
       "      <td>2020-01-07</td>\n",
       "      <td>10725.18</td>\n",
       "      <td>10829.04</td>\n",
       "      <td>10829.04</td>\n",
       "      <td>10723.86</td>\n",
       "      <td>414499627.0</td>\n",
       "      <td>sz</td>\n",
       "    </tr>\n",
       "    <tr>\n",
       "      <th>4</th>\n",
       "      <td>2020-01-08</td>\n",
       "      <td>10776.71</td>\n",
       "      <td>10706.87</td>\n",
       "      <td>10851.28</td>\n",
       "      <td>10681.02</td>\n",
       "      <td>462506909.0</td>\n",
       "      <td>sz</td>\n",
       "    </tr>\n",
       "  </tbody>\n",
       "</table>\n",
       "</div>"
      ],
      "text/plain": [
       "         date      open     close      high       low       volume code\n",
       "0  2020-01-02  10509.12  10638.82  10663.55  10479.77  392795173.0   sz\n",
       "1  2020-01-03  10666.66  10656.41  10689.59  10594.36  373603938.0   sz\n",
       "2  2020-01-06  10599.41  10698.27  10799.58  10577.78  438998251.0   sz\n",
       "3  2020-01-07  10725.18  10829.04  10829.04  10723.86  414499627.0   sz\n",
       "4  2020-01-08  10776.71  10706.87  10851.28  10681.02  462506909.0   sz"
      ]
     },
     "execution_count": 19,
     "metadata": {},
     "output_type": "execute_result"
    }
   ],
   "source": [
    "import tushare\n",
    "df = tushare.get_k_data('sz', start='2020-01-01', end='2020-02-01')  #获取某个时间段内的深圳指数\n",
    "df.head()"
   ]
  },
  {
   "cell_type": "markdown",
   "id": "b0074018-bcf8-4806-8b8b-ee2a896a2bf4",
   "metadata": {},
   "source": [
    "### 练习"
   ]
  },
  {
   "cell_type": "markdown",
   "id": "3a33c8ea-2b85-4384-8f68-caf2a4bd2405",
   "metadata": {},
   "source": [
    "1. 通过tushare接口获取到国内的股票，比如要获取上港集团(代码600018)的日线数据，代码为\"600018\"，开始日期为'2010-01-01'，结束日期为\"2023-01-01\" \n",
    "2. 绘制该数据的收盘价'close'的折线图"
   ]
  },
  {
   "cell_type": "code",
   "execution_count": null,
   "id": "299a3d12-a6d5-47be-9ed4-b2d8ec47e939",
   "metadata": {},
   "outputs": [],
   "source": [
    "\n",
    "\n"
   ]
  },
  {
   "cell_type": "markdown",
   "id": "f94431d2-a9e4-432a-8ddf-60631703a3dc",
   "metadata": {},
   "source": [
    "## 参考\n",
    "1.《机器学习与资产定价》Stefan Nagel, 2021"
   ]
  }
 ],
 "metadata": {
  "kernelspec": {
   "display_name": "Python 3 (ipykernel)",
   "language": "python",
   "name": "python3"
  },
  "language_info": {
   "codemirror_mode": {
    "name": "ipython",
    "version": 3
   },
   "file_extension": ".py",
   "mimetype": "text/x-python",
   "name": "python",
   "nbconvert_exporter": "python",
   "pygments_lexer": "ipython3",
   "version": "3.9.13"
  }
 },
 "nbformat": 4,
 "nbformat_minor": 5
}
