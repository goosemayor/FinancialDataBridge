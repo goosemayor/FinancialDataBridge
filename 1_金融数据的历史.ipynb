{
 "cells": [
  {
   "cell_type": "markdown",
   "id": "223fe24e-ade8-47e2-9f49-d83bef14b888",
   "metadata": {},
   "source": [
    "# 1. 金融数据的发展"
   ]
  },
  {
   "cell_type": "markdown",
   "id": "6e8af938-2ea9-4cc4-85e8-2bfd0b5d2709",
   "metadata": {},
   "source": [
    "我们从一个应用场景出发，来了解金融数据的发展："
   ]
  },
  {
   "cell_type": "markdown",
   "id": "88ef55c1-c9df-47a5-a006-6ae49ac55a70",
   "metadata": {},
   "source": [
    "预测问题是资产定价的核心。为了给股票定价，投资者必须预测公司未来的现金流。为了找到表现优异的交易策略，投资者会寻找能够预\n",
    "测资产收益率的信号。检验资产定价模型的学者们需寻找能够解释资产收益率（横）截面差异或时序变化的预测变量。信用风险模型需要能够\n",
    "预测违约的变量作为输人。对冲和风险管理模型则需要预测资产收益率之间的共同运动。"
   ]
  },
  {
   "cell_type": "markdown",
   "id": "37d2a6a3-4b33-4afc-aefc-a312df47753f",
   "metadata": {},
   "source": [
    "过去数十年，技术的进步致使投资者和分析师可获得的信息量呈爆发式增长。即使我们只看到其中的一小部分，即从公司财务报告中提取的数据，数据可得性的增长也是惊人的。一百年穆迪手册([Moody's](https://www.moodys.com) manuals)企业财务报告的印刷版年卷代表了公众随时可以获得的大部分数据。"
   ]
  },
  {
   "cell_type": "markdown",
   "id": "a839b0d4-9d65-4f3d-aed0-3852e36e6687",
   "metadata": {},
   "source": [
    "![moody_manuals](image/moody_manuals.png)"
   ]
  },
  {
   "cell_type": "markdown",
   "id": "a5f6c4a1-c397-4bf8-ab89-afa701716a2f",
   "metadata": {},
   "source": [
    "随着电子计算机的出现，像[COMPUSTAT](https://www.spglobal.com/marketintelligence/en/solutions/fundamental-data)这样的数据库(美国标普公司在1962年创建的高质量财务数据库)，\n",
    "如今它是学术界在针对美股进行实证资产定价研究时所使用的重要数据库之一。"
   ]
  },
  {
   "cell_type": "markdown",
   "id": "be19bf1d-b492-4413-b45a-4b5ee736c4cd",
   "metadata": {},
   "source": [
    "<center><img src=\"image/mi-platform.png\" alt=\"image/mi-platform.png\" width=\"600\" height=\"228\"></center>"
   ]
  },
  {
   "cell_type": "markdown",
   "id": "4dddb7f3-7597-4704-b4ac-0e63bf0fc351",
   "metadata": {},
   "source": [
    "美国证券交易委员会（SEC）的[Edgar](https://www.sec.gov/edgar)数据库包含了TB级的财务报告数据，从这些文件中为每个公司构建出数以百万计的变量。"
   ]
  },
  {
   "cell_type": "markdown",
   "id": "0f51c7c3-8bad-4f03-8e46-da32a18ce02e",
   "metadata": {},
   "source": [
    "![big_data_evo](image/big_data_evo.png)"
   ]
  },
  {
   "cell_type": "markdown",
   "id": "770f51ed-e613-4d67-97c9-c3bfefbb5528",
   "metadata": {},
   "source": [
    "公司财务报告只代表了投资者潜在可获得的一小部分数据。除此之外，\n",
    "1) 记录市场历史价格和交易记录的数据库包含了海量数据；\n",
    "2) 社交媒体中包含了大量投资者情绪数据；\n",
    "3) 客户和员工的在线点评也可能包含有价值的信息；  \n",
    "\n",
    "以及许多其他数据源都有可能和前文提到的预测应用密切相关。"
   ]
  },
  {
   "cell_type": "markdown",
   "id": "3c246d44-ee0f-4a64-b6c4-c2310f30ac98",
   "metadata": {},
   "source": [
    "总结目前财经类的数据门类，涵盖了但不限于以下：\n",
    "|数据类型|例如|\n",
    "|---|---|\n",
    "|市场的交易数据|股票价格、成交量等|\n",
    "|财经新闻资讯|企业融资并购消息、财政货币政策发布等|\n",
    "|企业的财务数据|公司财务年度报告|\n",
    "|社交媒体的舆情数据|股吧、雪球上的评论|"
   ]
  },
  {
   "cell_type": "markdown",
   "id": "dbf73cff-3bf1-4456-b6e5-5478e8461991",
   "metadata": {},
   "source": [
    "### 练习\n",
    "你还能想到在网络上可以获取到哪些其他和金融相关的数据？"
   ]
  },
  {
   "cell_type": "code",
   "execution_count": null,
   "id": "cdaaa317-6a35-424e-9ac0-d072cf7afe42",
   "metadata": {},
   "outputs": [],
   "source": [
    "\n",
    "\n",
    "\n",
    "\n"
   ]
  }
 ],
 "metadata": {
  "kernelspec": {
   "display_name": "Python 3 (ipykernel)",
   "language": "python",
   "name": "python3"
  },
  "language_info": {
   "codemirror_mode": {
    "name": "ipython",
    "version": 3
   },
   "file_extension": ".py",
   "mimetype": "text/x-python",
   "name": "python",
   "nbconvert_exporter": "python",
   "pygments_lexer": "ipython3",
   "version": "3.9.13"
  }
 },
 "nbformat": 4,
 "nbformat_minor": 5
}
